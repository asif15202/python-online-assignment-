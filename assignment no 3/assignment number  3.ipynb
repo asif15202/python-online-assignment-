{
 "cells": [
  {
   "cell_type": "code",
   "execution_count": 1,
   "id": "35fa8234",
   "metadata": {},
   "outputs": [
    {
     "name": "stdout",
     "output_type": "stream",
     "text": [
      "Twinkle,Twinkle Little Stars\n",
      "        How I Wounder What You Are\n",
      "                 Up above the world so high,\n",
      "                 Like a diamond in the sky.\n",
      "Twinkle, twinkle, little star,\n",
      "        How I wonder what you\n"
     ]
    }
   ],
   "source": [
    "'''Write a Python program to print the following string in a specific format (see the\n",
    " output)'''\n",
    "\n",
    "print(\"Twinkle,Twinkle Little Stars\")\n",
    "print(\"        How I Wounder What You Are\")\n",
    "print(\"                 Up above the world so high,\")\n",
    "print(\"                 Like a diamond in the sky.\")\n",
    "print(\"Twinkle, twinkle, little star,\")\n",
    "print(\"        How I wonder what you\")"
   ]
  },
  {
   "cell_type": "code",
   "execution_count": 2,
   "id": "abf32f23",
   "metadata": {},
   "outputs": [
    {
     "name": "stdout",
     "output_type": "stream",
     "text": [
      "CURRENT DATE AND TIME\n",
      "2021-10-23 01:30:06.467612\n"
     ]
    }
   ],
   "source": [
    "\"\"\"3. Write a Python program to display the current date and time.\"\"\"\n",
    "import datetime\n",
    "Time_date = datetime.datetime.now()\n",
    "print(\"CURRENT DATE AND TIME\")\n",
    "print(Time_date)"
   ]
  },
  {
   "cell_type": "code",
   "execution_count": 3,
   "id": "a12b04a5",
   "metadata": {},
   "outputs": [
    {
     "name": "stdout",
     "output_type": "stream",
     "text": [
      "phython version\n",
      "3.8.8 (default, Apr 13 2021, 15:08:03) [MSC v.1916 64 bit (AMD64)]\n"
     ]
    }
   ],
   "source": [
    " \"\"\"2. Write a Python program to get the Python version you are using\"\"\"\n",
    "import sys\n",
    "print(\"phython version\")\n",
    "print(sys.version)"
   ]
  },
  {
   "cell_type": "code",
   "execution_count": 4,
   "id": "512127ca",
   "metadata": {},
   "outputs": [
    {
     "name": "stdout",
     "output_type": "stream",
     "text": [
      "enter radius of circle12\n",
      "area of circle is 452.16\n"
     ]
    }
   ],
   "source": [
    "\"\"\" Write a Python program which accepts the radius of a circle from the user and compute the area.\"\"\"\n",
    "radius = int(input(\"enter radius of circle\"));\n",
    "area = 3.14*radius**2;\n",
    "print(\"area of circle is\",area)"
   ]
  },
  {
   "cell_type": "code",
   "execution_count": 5,
   "id": "c7df9282",
   "metadata": {},
   "outputs": [
    {
     "name": "stdout",
     "output_type": "stream",
     "text": [
      "enter first name :asif \n",
      "enter last name :nawaz\n",
      "nawaz asif \n"
     ]
    }
   ],
   "source": [
    "\"\"\"\"Write a Python program which accepts the user's first and last name and print them in reverse order with a space between them.\"\"\"\n",
    "first_name = input(\"enter first name :\");\n",
    "last_name = input(\"enter last name :\");\n",
    "print(last_name + \" \"+first_name)"
   ]
  },
  {
   "cell_type": "code",
   "execution_count": 6,
   "id": "7c818d00",
   "metadata": {},
   "outputs": [
    {
     "name": "stdout",
     "output_type": "stream",
     "text": [
      "enter value of a54\n",
      "enter value of b17\n",
      "71\n"
     ]
    }
   ],
   "source": [
    "\"\"\". Write a python program which takes two inputs from user and print them addition\"\"\"\n",
    "a = int(input(\"enter value of a\"));\n",
    "b = int(input(\"enter value of b\"));\n",
    "c = a+b;\n",
    "print(c)"
   ]
  },
  {
   "cell_type": "code",
   "execution_count": 8,
   "id": "995ec84d",
   "metadata": {},
   "outputs": [
    {
     "name": "stdout",
     "output_type": "stream",
     "text": [
      "enter marks of english58\n",
      "enter marks of urdu50\n",
      "enter marks of maths75\n",
      "enter marks of computer46\n",
      "enter marks of islamyat56\n",
      "total marks : 285\n",
      "percentage : 57.0\n",
      "grade C\n"
     ]
    }
   ],
   "source": [
    "\"\"\"Write a program which takes 5 inputs from user for different subject’s marks, total it\n",
    "and generate mark sheet using grades\"\"\"\n",
    "english = int(input(\"enter marks of english\"));\n",
    "urdu = int(input(\"enter marks of urdu\"));\n",
    "maths = int(input(\"enter marks of maths\"));\n",
    "computer = int(input(\"enter marks of computer\"));\n",
    "islamyat = int(input(\"enter marks of islamyat\"));\n",
    "total = english+urdu+maths+computer+islamyat\n",
    "print(\"total marks :\",total)\n",
    "percent= total/5\n",
    "print(\"percentage :\",percent)\n",
    "if percent >= 85:\n",
    "    print(\"grade A+\")\n",
    "elif percent >= 75:\n",
    "     print(\"grade A\")\n",
    "elif percent >= 65:\n",
    "     print(\"grade B\")\n",
    "elif percent >= 55:\n",
    "     print(\"grade C\")\n",
    "elif percent >= 45:\n",
    "    print(\"grade D\")\n",
    "elif percent >= 30:\n",
    "    print(\"grade E\")\n",
    "else:\n",
    "    print(\"fail\")"
   ]
  },
  {
   "cell_type": "code",
   "execution_count": 9,
   "id": "531d6fb1",
   "metadata": {},
   "outputs": [
    {
     "name": "stdout",
     "output_type": "stream",
     "text": [
      "enter any number57\n",
      "57 number is odd\n"
     ]
    }
   ],
   "source": [
    "\"\"\"Write a program which take input from user and identify that the given number is even\n",
    "or odd?\"\"\"\n",
    "number = int(input(\"enter any number\"));\n",
    "if (number%2 == 0):\n",
    "    print(number,\"number is even\")\n",
    "else:\n",
    "    print(number,\"number is odd\")"
   ]
  },
  {
   "cell_type": "code",
   "execution_count": 10,
   "id": "5c3ad0b1",
   "metadata": {},
   "outputs": [
    {
     "name": "stdout",
     "output_type": "stream",
     "text": [
      "4\n"
     ]
    }
   ],
   "source": [
    "#9.Write a program which print the length of the list?\n",
    "list = [1,3,4,5]\n",
    "print(len(list))"
   ]
  },
  {
   "cell_type": "code",
   "execution_count": 11,
   "id": "20bf4255",
   "metadata": {},
   "outputs": [
    {
     "name": "stdout",
     "output_type": "stream",
     "text": [
      "sum of all element in given list 73\n"
     ]
    }
   ],
   "source": [
    "\"\"\"10.Write a Python program to sum all the numeric items in a list?\"\"\"\n",
    "list = [20,12,41]\n",
    "total = sum(list)\n",
    "print(\"sum of all element in given list\",total)"
   ]
  },
  {
   "cell_type": "code",
   "execution_count": null,
   "id": "e0e9dabe",
   "metadata": {},
   "outputs": [],
   "source": []
  }
 ],
 "metadata": {
  "kernelspec": {
   "display_name": "Python 3",
   "language": "python",
   "name": "python3"
  },
  "language_info": {
   "codemirror_mode": {
    "name": "ipython",
    "version": 3
   },
   "file_extension": ".py",
   "mimetype": "text/x-python",
   "name": "python",
   "nbconvert_exporter": "python",
   "pygments_lexer": "ipython3",
   "version": "3.8.8"
  }
 },
 "nbformat": 4,
 "nbformat_minor": 5
}
